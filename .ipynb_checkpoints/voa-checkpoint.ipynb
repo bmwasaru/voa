{
 "cells": [
  {
   "cell_type": "code",
   "execution_count": 1,
   "id": "2ea0761c",
   "metadata": {},
   "outputs": [],
   "source": [
    "from bs4 import BeautifulSoup\n",
    "import requests\n",
    "from datetime import datetime\n",
    "import csv"
   ]
  },
  {
   "cell_type": "code",
   "execution_count": 2,
   "id": "25d3fd8b",
   "metadata": {},
   "outputs": [
    {
     "name": "stdout",
     "output_type": "stream",
     "text": [
      "['https://www.voaswahili.com/a/6619989.html', 'https://www.voaswahili.com/a/6619728.html', 'https://www.voaswahili.com/a/idadi-ya-vifo-kaskazini-mwa-burkina-faso-imeongezeka-kufikia-86-mamlaka-ilisema/6619703.html', 'https://www.voaswahili.com/a/6619695.html', 'https://www.voaswahili.com/a/rais-kenyatta-aomba-jeshi-la-afrika-mashariki-lipelekwe-drc/6619683.html', 'https://www.voaswahili.com/a/6619648.html', 'https://www.voaswahili.com/a/ukraine-yapuuzia-amri-iliyotolewa-na-russia-wanajeshi-wake-kujisalimisha/6618622.html', 'https://www.voaswahili.com/a/balozi-mpya-wa-marekani-nchini-zambia-athibitishwa-na-bunge-/6618579.html', 'https://www.voaswahili.com/a/majangili-wauwa-vifaru-11-katika-mbuga-za-wanyama-namibia/6618534.html', 'https://www.voaswahili.com/a/6599556.html', 'https://www.voaswahili.com/a/6597879.html', 'https://www.voaswahili.com/a/6597946.html', 'https://www.voaswahili.com/a/6598002.html', 'https://www.voaswahili.com/a/waaandamanaji-drc-waishutumu-rwanda-kuunga-mkono-waasi-wa-m23/6618671.html', 'https://www.voaswahili.com/a/shughuli-za-maendeleo-tanzania-zatengewa-bajeti-ya-shilingi-trilioni-15-/6619064.html', 'https://www.voaswahili.com/a/kituo-cha-red-cross-mombasa-kenya-chawasaidia-vijana-kukuza-vipaji-/6619065.html', 'https://www.voaswahili.com/a/uganda-wazazi-wa-watoto-wenye-utapiamlo-wahofia-watoto-wao-kufariki/6619063.html', 'https://www.voaswahili.com/a/miundombinu-ya-afya-afrika-je-usalama-uko-vipi-/6612603.html', 'https://www.voaswahili.com/a/mwimbo-unaokosoa-ukatili-wa-polisi-wazinduliwa-kenya/6613004.html', 'https://www.voaswahili.com/a/marekani-kuwekeza-dola-milioni-3-2-kuimarisha-uchumi-amerika-ya-kati/6612601.html', 'https://www.voaswahili.com/a/siku-katika-maisha-ya-wakimbizi/6618590.html', 'https://www.voaswahili.com/a/waandishi-wa-habari-wa-myanmar-waliokimbilia-thailand-wanaishi-kwa-wasiwasi-/6562722.html', 'https://www.voaswahili.com/a/mwandishi-wa-uganda-aliyeko-uhamishoni-asimulia-alivyoteswa-kwa-kusimamia-maadili/6561247.html', 'https://www.voaswahili.com/a/mwandishi-wa-habari-wa-congo-aeleza-mauaji-ya-waandishi-hayajafanyiwa-uchunguzi-/6559770.html', 'https://www.voaswahili.com/a/mwandishi-anayeishi-uhamishoni-asema-uhuru-wa-habari-umezidi-kudidimia-zimbabwe/6557242.html', 'https://www.voaswahili.com/a/mwanahabari-aliyeko-uhamishoni-aeleza-hali-ya-waandishi-burundi/6556586.html', 'https://www.voaswahili.com/a/waandishi-na-watetezi-waonya-kuhusu-vitisho-kwa-uhuru-wa-habari-kupitia-teknolojia/6556601.html', 'https://www.voaswahili.com/a/6557868.html', 'https://www.voaswahili.com/a/wadau-bado-sheria-kandamizi-dhidi-ya-vyombo-vya-habari-zipo-tanzania/6555637.html', 'https://www.voaswahili.com/a/siku-ya-uhuru-wa-habari-mvutano-waongezeka-katika-utoaji-habari-/6555307.html', 'https://www.voaswahili.com/a/mwandishi-drc-aeleza-uhuru-wa-habari-katika-hali-ya-kivita/6555667.html', 'https://www.voaswahili.com/a/mwandishi-wa-habari-kenya-aeleza-changamoto-za-kufichua-uovu-/6555605.html', 'https://www.voaswahili.com/a/maelfu-ya-watu-wahudhuria-mkutano-kupinga-mashambulizi-ya-bunduki/6614162.html', 'https://www.voaswahili.com/a/moto-wa-pili-wazuka-kwenye-jengo-la-bunge-afrika-kusini-wadhibitiwa/6381047.html', 'https://www.voaswahili.com/a/wanawake-wa-kiafrika-kupokea-tuzo-ya-kimataifa-ya-wanawake-mashujaa/6482974.html']\n"
     ]
    }
   ],
   "source": [
    "URL = \"https://www.voaswahili.com/\"\n",
    "\n",
    "page = requests.get(URL)\n",
    "soup = BeautifulSoup(page.content, \"html.parser\")\n",
    "home_page_links = []\n",
    "\n",
    "for a_href in soup.find_all(\"a\", href=True, class_=\"img-wrap\"):\n",
    "    if a_href[\"href\"].startswith('/a/'):\n",
    "        home_page_links.append(\"https://www.voaswahili.com\"+a_href[\"href\"])\n",
    "    \n",
    "print(home_page_links)\n"
   ]
  },
  {
   "cell_type": "code",
   "execution_count": 5,
   "id": "e590e0c5",
   "metadata": {},
   "outputs": [],
   "source": [
    "\"\"\"\n",
    "- Loop through the list of links from the home page. \n",
    "- Open the links and look for the content in the article,\n",
    "- Split the paragraphs into sentences then write the sentence to a csv file\n",
    "\"\"\"\n",
    "\n",
    "for link in home_page_links:\n",
    "    page = requests.get(link)\n",
    "    soup = BeautifulSoup(page.content, \"html.parser\")\n",
    "    page_paragraph = soup.find_all('div', class_=\"content-floated-wrap fb-quotable\")\n",
    "    for paragraph in page_paragraph:\n",
    "        paragraph_list = paragraph.get_text().splitlines()\n",
    "        \n",
    "        # remove empty strings from list\n",
    "        while(\"\" in paragraph_list) :\n",
    "            paragraph_list.remove(\"\")\n",
    "            \n",
    "        # split at fullstops\n",
    "        nested_list = [string.split(\".\") for string in paragraph_list]\n",
    "        \n",
    "        # flatten the now nested list\n",
    "        flat_list = [nest for sublist in nested_list for nest in sublist]\n",
    "        \n",
    "        # remove empty strings from list\n",
    "        while(\"\" in flat_list) :\n",
    "            flat_list.remove(\"\")\n",
    "            \n",
    "        # make everything a flat nested list, for purposes of saving to csv\n",
    "        list_of_list = [[string] for string in flat_list]\n",
    "            \n",
    "        # current date\n",
    "        current_date = datetime.today().strftime(\"%d-%m-%y\")\n",
    "            \n",
    "        with open(f'datasets/{current_date}.csv', 'a', newline='') as csvfile:\n",
    "            writer= csv.writer(csvfile, delimiter=' ')\n",
    "            writer.writerows(list_of_list)"
   ]
  },
  {
   "cell_type": "code",
   "execution_count": null,
   "id": "24dc7aba",
   "metadata": {},
   "outputs": [],
   "source": []
  }
 ],
 "metadata": {
  "kernelspec": {
   "display_name": "Python 3 (ipykernel)",
   "language": "python",
   "name": "python3"
  },
  "language_info": {
   "codemirror_mode": {
    "name": "ipython",
    "version": 3
   },
   "file_extension": ".py",
   "mimetype": "text/x-python",
   "name": "python",
   "nbconvert_exporter": "python",
   "pygments_lexer": "ipython3",
   "version": "3.8.2"
  }
 },
 "nbformat": 4,
 "nbformat_minor": 5
}
