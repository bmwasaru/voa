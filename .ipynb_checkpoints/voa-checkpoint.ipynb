{
 "cells": [
  {
   "cell_type": "code",
   "execution_count": 6,
   "id": "f7908135",
   "metadata": {},
   "outputs": [],
   "source": [
    "from bs4 import BeautifulSoup\n",
    "import requests"
   ]
  },
  {
   "cell_type": "code",
   "execution_count": 15,
   "id": "27c39b6b",
   "metadata": {},
   "outputs": [
    {
     "name": "stdout",
     "output_type": "stream",
     "text": [
      "['/a/watu-10-000-wakimbia-mashambulizi-mapya-ya-wanamgambo-wa-kiislamu-nchini-msumbiji/6618081.html', '/a/watu-10-000-wakimbia-mashambulizi-mapya-ya-wanamgambo-wa-kiislamu-nchini-msumbiji/6618081.html', '/a/6618075.html', '/a/6618075.html', '/a/6618073.html', '/a/6618073.html', '/a/6618072.html', '/a/6618072.html', '/a/waziri-mkuu-wa-ethiopia-aunda-kamati-ya-mashauriano-kuzungumza-na-vikosi-vya-tigray/6617200.html', '/a/waziri-mkuu-wa-ethiopia-aunda-kamati-ya-mashauriano-kuzungumza-na-vikosi-vya-tigray/6617200.html', '/a/wfp-yaomba-dola-milioni-426-za-kupambana-na-njaa-sudan-kusini/6617187.html', '/a/wfp-yaomba-dola-milioni-426-za-kupambana-na-njaa-sudan-kusini/6617187.html', '/a/ndege-ya-kwanza-ya-wakimbizi-kutoka-uingereza-hadi-rwanda-kuondoka-jumanne/6616888.html', '/a/ndege-ya-kwanza-ya-wakimbizi-kutoka-uingereza-hadi-rwanda-kuondoka-jumanne/6616888.html', '/a/mpango-wa-kupeleka-wakimbizi-rwanda-wawatia-hofu-wapinzani-wa-kisiasa-mashirika-ya-misaada-uingereza/6616859.html', '/a/mpango-wa-kupeleka-wakimbizi-rwanda-wawatia-hofu-wapinzani-wa-kisiasa-mashirika-ya-misaada-uingereza/6616859.html', '/a/bunge-la-kenya-laahirisha-vikao-vyake-bila-kuzingatia-miswada-muhimu-inayohusiana-na-uchaguzi-mkuu/6616531.html', '/a/bunge-la-kenya-laahirisha-vikao-vyake-bila-kuzingatia-miswada-muhimu-inayohusiana-na-uchaguzi-mkuu/6616531.html', '/a/6597742.html', '/a/6597742.html', '/a/6596282.html', '/a/6596282.html', '/a/6596348.html', '/a/6596348.html', '/a/6596400.html', '/a/6596400.html', '/a/6617155.html', '/a/6617155.html', '/a/drc-waasi-wa-m23-wachukua-mji-wa-bunagana/6616049.html', '/a/drc-waasi-wa-m23-wachukua-mji-wa-bunagana/6616049.html', '/a/wanachama-wa-kamati-ya-januari-06-yamlaumu-trump/6616045.html', '/a/wanachama-wa-kamati-ya-januari-06-yamlaumu-trump/6616045.html', '/a/fainali-ya-ligi-ya-nba-marekani-boston-celtics-inadalili-za-kuibuka-mshindi/6616044.html', '/a/fainali-ya-ligi-ya-nba-marekani-boston-celtics-inadalili-za-kuibuka-mshindi/6616044.html', '/a/miundombinu-ya-afya-afrika-je-usalama-uko-vipi-/6612603.html', '/a/miundombinu-ya-afya-afrika-je-usalama-uko-vipi-/6612603.html', '/a/mwimbo-unaokosoa-ukatili-wa-polisi-wazinduliwa-kenya/6613004.html', '/a/mwimbo-unaokosoa-ukatili-wa-polisi-wazinduliwa-kenya/6613004.html', '/a/marekani-kuwekeza-dola-milioni-3-2-kuimarisha-uchumi-amerika-ya-kati/6612601.html', '/a/marekani-kuwekeza-dola-milioni-3-2-kuimarisha-uchumi-amerika-ya-kati/6612601.html', '/a/uchaguzi-2022-idadi-ya-wanawake-wanaogombea-uongozi-yaongezeka-kenya/6612527.html', '/a/uchaguzi-2022-idadi-ya-wanawake-wanaogombea-uongozi-yaongezeka-kenya/6612527.html', '/a/waandishi-wa-habari-wa-myanmar-waliokimbilia-thailand-wanaishi-kwa-wasiwasi-/6562722.html', '/a/waandishi-wa-habari-wa-myanmar-waliokimbilia-thailand-wanaishi-kwa-wasiwasi-/6562722.html', '/a/mwandishi-wa-uganda-aliyeko-uhamishoni-asimulia-alivyoteswa-kwa-kusimamia-maadili/6561247.html', '/a/mwandishi-wa-uganda-aliyeko-uhamishoni-asimulia-alivyoteswa-kwa-kusimamia-maadili/6561247.html', '/a/mwandishi-wa-habari-wa-congo-aeleza-mauaji-ya-waandishi-hayajafanyiwa-uchunguzi-/6559770.html', '/a/mwandishi-wa-habari-wa-congo-aeleza-mauaji-ya-waandishi-hayajafanyiwa-uchunguzi-/6559770.html', '/a/mwandishi-anayeishi-uhamishoni-asema-uhuru-wa-habari-umezidi-kudidimia-zimbabwe/6557242.html', '/a/mwandishi-anayeishi-uhamishoni-asema-uhuru-wa-habari-umezidi-kudidimia-zimbabwe/6557242.html', '/a/mwanahabari-aliyeko-uhamishoni-aeleza-hali-ya-waandishi-burundi/6556586.html', '/a/mwanahabari-aliyeko-uhamishoni-aeleza-hali-ya-waandishi-burundi/6556586.html', '/a/waandishi-na-watetezi-waonya-kuhusu-vitisho-kwa-uhuru-wa-habari-kupitia-teknolojia/6556601.html', '/a/waandishi-na-watetezi-waonya-kuhusu-vitisho-kwa-uhuru-wa-habari-kupitia-teknolojia/6556601.html', '/a/6557868.html', '/a/6557868.html', '/a/wadau-bado-sheria-kandamizi-dhidi-ya-vyombo-vya-habari-zipo-tanzania/6555637.html', '/a/wadau-bado-sheria-kandamizi-dhidi-ya-vyombo-vya-habari-zipo-tanzania/6555637.html', '/a/siku-ya-uhuru-wa-habari-mvutano-waongezeka-katika-utoaji-habari-/6555307.html', '/a/siku-ya-uhuru-wa-habari-mvutano-waongezeka-katika-utoaji-habari-/6555307.html', '/a/mwandishi-drc-aeleza-uhuru-wa-habari-katika-hali-ya-kivita/6555667.html', '/a/mwandishi-drc-aeleza-uhuru-wa-habari-katika-hali-ya-kivita/6555667.html', '/a/mwandishi-wa-habari-kenya-aeleza-changamoto-za-kufichua-uovu-/6555605.html', '/a/mwandishi-wa-habari-kenya-aeleza-changamoto-za-kufichua-uovu-/6555605.html', '/a/maelfu-ya-watu-wahudhuria-mkutano-kupinga-mashambulizi-ya-bunduki/6614162.html', '/a/maelfu-ya-watu-wahudhuria-mkutano-kupinga-mashambulizi-ya-bunduki/6614162.html', '/a/moto-wa-pili-wazuka-kwenye-jengo-la-bunge-afrika-kusini-wadhibitiwa/6381047.html', '/a/moto-wa-pili-wazuka-kwenye-jengo-la-bunge-afrika-kusini-wadhibitiwa/6381047.html', '/a/wanawake-wa-kiafrika-kupokea-tuzo-ya-kimataifa-ya-wanawake-mashujaa/6482974.html', '/a/wanawake-wa-kiafrika-kupokea-tuzo-ya-kimataifa-ya-wanawake-mashujaa/6482974.html']\n"
     ]
    }
   ],
   "source": [
    "URL = \"https://www.voaswahili.com/\"\n",
    "\n",
    "page = requests.get(URL)\n",
    "soup = BeautifulSoup(page.content, \"html.parser\")\n",
    "home_page_links = []\n",
    "\n",
    "for a_href in soup.find_all(\"a\", href=True):\n",
    "    if a_href[\"href\"].startswith('/a/'):\n",
    "        home_page_links.append(a_href[\"href\"])\n",
    "    \n",
    "print(home_page_links)\n",
    "    \n"
   ]
  },
  {
   "cell_type": "code",
   "execution_count": null,
   "id": "8a92ab4f",
   "metadata": {},
   "outputs": [],
   "source": [
    "for link in home_page_links:\n",
    "    page = requests.get(link)\n",
    "    soup = BeautifulSoup(page.content, \"html.parser\")"
   ]
  }
 ],
 "metadata": {
  "kernelspec": {
   "display_name": "Python 3 (ipykernel)",
   "language": "python",
   "name": "python3"
  },
  "language_info": {
   "codemirror_mode": {
    "name": "ipython",
    "version": 3
   },
   "file_extension": ".py",
   "mimetype": "text/x-python",
   "name": "python",
   "nbconvert_exporter": "python",
   "pygments_lexer": "ipython3",
   "version": "3.8.2"
  }
 },
 "nbformat": 4,
 "nbformat_minor": 5
}
