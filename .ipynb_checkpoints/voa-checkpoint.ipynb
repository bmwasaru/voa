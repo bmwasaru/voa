{
 "cells": [
  {
   "cell_type": "code",
   "execution_count": 8,
   "id": "2ea0761c",
   "metadata": {},
   "outputs": [],
   "source": [
    "from bs4 import BeautifulSoup\n",
    "import requests\n",
    "from datetime import datetime\n",
    "import csv"
   ]
  },
  {
   "cell_type": "code",
   "execution_count": 33,
   "id": "25d3fd8b",
   "metadata": {},
   "outputs": [],
   "source": [
    "URL = \"https://www.voaswahili.com/\"\n",
    "\n",
    "# current date\n",
    "current_date = datetime.today().strftime(\"%d-%m-%y\")\n",
    "\n",
    "page = requests.get(URL)\n",
    "soup = BeautifulSoup(page.content, \"html.parser\")\n",
    "home_page_links = []\n",
    "headline_title_list = []\n",
    "\n",
    "for headline_title in soup.find_all(\"h4\", class_=\"media-block__title\"):\n",
    "    headline_title_list.append(headline_title.get_text())\n",
    "    \n",
    "   \n",
    "with open(f'datasets/{current_date}.csv', 'a') as csvfile:\n",
    "    writer= csv.writer(csvfile, delimiter='\\n')\n",
    "    writer.writerow(headline_title_list)\n",
    "    \n",
    "\n",
    "for a_href in soup.find_all(\"a\", href=True, class_=\"img-wrap\"):\n",
    "    if a_href[\"href\"].startswith('/a/'):\n",
    "        home_page_links.append(\"https://www.voaswahili.com\"+a_href[\"href\"])\n",
    "\n"
   ]
  },
  {
   "cell_type": "code",
   "execution_count": 34,
   "id": "e590e0c5",
   "metadata": {},
   "outputs": [],
   "source": [
    "\"\"\"\n",
    "- Loop through the list of links from the home page. \n",
    "- Open the links and look for the content in the article,\n",
    "- Split the paragraphs into sentences then write the sentence to a csv file\n",
    "\"\"\"\n",
    "\n",
    "for link in home_page_links:\n",
    "    page = requests.get(link)\n",
    "    soup = BeautifulSoup(page.content, \"html.parser\")\n",
    "    page_paragraph = soup.find_all('div', class_=\"content-floated-wrap fb-quotable\")\n",
    "    for paragraph in page_paragraph:\n",
    "        paragraph_list = paragraph.get_text().splitlines()\n",
    "        \n",
    "        # remove empty strings from list\n",
    "        while(\"\" in paragraph_list) :\n",
    "            paragraph_list.remove(\"\")\n",
    "            \n",
    "        # split at fullstops\n",
    "        nested_list = [string.split(\".\") for string in paragraph_list]\n",
    "        \n",
    "        # flatten the now nested list\n",
    "        flat_list = [nest for sublist in nested_list for nest in sublist]\n",
    "        \n",
    "        # remove empty strings from list\n",
    "        while(\"\" in flat_list) :\n",
    "            flat_list.remove(\"\")\n",
    "            \n",
    "        # make everything a flat nested list, for purposes of saving to csv\n",
    "        list_of_list = [[string] for string in flat_list]\n",
    "            \n",
    "        with open(f'datasets/{current_date}.csv', 'a', newline='') as csvfile:\n",
    "            writer= csv.writer(csvfile, delimiter=' ')\n",
    "            writer.writerows(list_of_list)"
   ]
  },
  {
   "cell_type": "code",
   "execution_count": null,
   "id": "24dc7aba",
   "metadata": {},
   "outputs": [],
   "source": []
  }
 ],
 "metadata": {
  "kernelspec": {
   "display_name": "Python 3 (ipykernel)",
   "language": "python",
   "name": "python3"
  },
  "language_info": {
   "codemirror_mode": {
    "name": "ipython",
    "version": 3
   },
   "file_extension": ".py",
   "mimetype": "text/x-python",
   "name": "python",
   "nbconvert_exporter": "python",
   "pygments_lexer": "ipython3",
   "version": "3.8.2"
  }
 },
 "nbformat": 4,
 "nbformat_minor": 5
}
